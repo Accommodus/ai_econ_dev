{
 "cells": [
  {
   "attachments": {},
   "cell_type": "markdown",
   "metadata": {},
   "source": [
    "Phase 1 description:\n",
    "---\n",
    "\n",
    "There will be several types of buildings with attributes associated with their class listed on the registry\n",
    "\n",
    "They will each have a certain manufacturing cost\n",
    "\n",
    "Agents will start out with a certain amount of money\n",
    "\n",
    "The agent's policy actions will be random\n",
    "\n",
    "They will be able to spend their money to construct buildings on the map"
   ]
  },
  {
   "cell_type": "code",
   "execution_count": 2,
   "metadata": {},
   "outputs": [],
   "source": [
    "from ai_economist import foundation\n",
    "import numpy as np"
   ]
  },
  {
   "cell_type": "code",
   "execution_count": 8,
   "metadata": {},
   "outputs": [],
   "source": [
    "zone_dict = {\n",
    "    \n",
    "    \"low_density_residential\":{\n",
    "        \"cost\":10,\n",
    "        \"population\":10\n",
    "    },\n",
    "\n",
    "    \"med_density_residential\":{\n",
    "        \"cost\":20,\n",
    "        \"population\":20\n",
    "    },\n",
    "\n",
    "    \"high_density_residential\":{\n",
    "        \"cost\":30,\n",
    "        \"population\":30\n",
    "    },\n",
    "\n",
    "    \"recreational\":{\n",
    "        \"cost\":10\n",
    "    }\n",
    "}\n",
    "\n",
    "zone_list = list(zone_dict.keys())"
   ]
  },
  {
   "cell_type": "code",
   "execution_count": 9,
   "metadata": {},
   "outputs": [
    {
     "data": {
      "text/plain": [
       "__main__.low_density_residential"
      ]
     },
     "execution_count": 9,
     "metadata": {},
     "output_type": "execute_result"
    }
   ],
   "source": [
    "from ai_economist.foundation.entities.landmarks import Landmark, landmark_registry\n",
    "    \n",
    "for i in zone_list:\n",
    "    landmark_registry.add(type(i, (Landmark,), {'ownable':False, 'name':i}))\n",
    "    \n",
    "\n",
    "landmark_registry.get(\"low_density_residential\")"
   ]
  },
  {
   "cell_type": "code",
   "execution_count": 10,
   "metadata": {},
   "outputs": [
    {
     "data": {
      "text/plain": [
       "__main__.UrbanDesignSimulation"
      ]
     },
     "execution_count": 10,
     "metadata": {},
     "output_type": "execute_result"
    }
   ],
   "source": [
    "from ai_economist.foundation.base.base_env import BaseEnvironment, scenario_registry\n",
    "\n",
    "env_name = \"UrbanDesignSimulation\"\n",
    "\n",
    "@scenario_registry.add\n",
    "class UrbanDesignSimulation(BaseEnvironment):\n",
    "    name = env_name\n",
    "    agent_subclasses = [\"ProprietorAgent\"]\n",
    "    required_entities = [\"Water\"] + zone_list\n",
    "\n",
    "scenario_registry.get(env_name)"
   ]
  }
 ],
 "metadata": {
  "kernelspec": {
   "display_name": "ai_economist",
   "language": "python",
   "name": "ai_economist"
  },
  "language_info": {
   "codemirror_mode": {
    "name": "ipython",
    "version": 3
   },
   "file_extension": ".py",
   "mimetype": "text/x-python",
   "name": "python",
   "nbconvert_exporter": "python",
   "pygments_lexer": "ipython3",
   "version": "3.8.10"
  },
  "orig_nbformat": 4,
  "vscode": {
   "interpreter": {
    "hash": "63e8fac638b3f395a62fd535d21373e1a4d6cd8b294febb18e6043fde58844b7"
   }
  }
 },
 "nbformat": 4,
 "nbformat_minor": 2
}
