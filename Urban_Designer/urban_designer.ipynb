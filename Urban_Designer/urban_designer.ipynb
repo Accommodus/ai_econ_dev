{
 "cells": [
  {
   "attachments": {},
   "cell_type": "markdown",
   "metadata": {},
   "source": [
    "Phase 1 description:\n",
    "---\n",
    "\n",
    "There will be several types of buildings with attributes associated with their class listed on the registry\n",
    "\n",
    "They will each have a certain manufacturing cost\n",
    "\n",
    "Agents will start out with a certain amount of money\n",
    "\n",
    "The agent's policy actions will be random\n",
    "\n",
    "They will be able to spend their money to construct buildings on the map"
   ]
  },
  {
   "cell_type": "code",
   "execution_count": 2,
   "metadata": {},
   "outputs": [],
   "source": [
    "from ai_economist import foundation\n",
    "import numpy as np"
   ]
  },
  {
   "cell_type": "code",
   "execution_count": 3,
   "metadata": {},
   "outputs": [
    {
     "data": {
      "text/plain": [
       "__main__.Low_Residental"
      ]
     },
     "execution_count": 3,
     "metadata": {},
     "output_type": "execute_result"
    }
   ],
   "source": [
    "from ai_economist.foundation.entities.landmarks import Landmark, landmark_registry\n",
    "\n",
    "class Residential(Landmark):\n",
    "    \"\"\"\n",
    "    general residential building type\n",
    "    \n",
    "    Each level of residential density will have its own registry entry\n",
    "    \"\"\"\n",
    "\n",
    "    color = np.array([220, 20, 220]) / 255.0\n",
    "    ownable = True\n",
    "    solid = True\n",
    "\n",
    "@landmark_registry.add\n",
    "class Low_Residental(Residential):\n",
    "    name = \"low density residential\"\n",
    "    max_residences = 10 # in a latter phase these will be replaced by scenario args\n",
    "    cost_per_residence = 1\n",
    "\n",
    "landmark_registry.get(\"low density residential\")"
   ]
  },
  {
   "cell_type": "code",
   "execution_count": 4,
   "metadata": {},
   "outputs": [
    {
     "name": "stdout",
     "output_type": "stream",
     "text": [
      "Inside covid19_components.py: 0 GPUs are available.\n",
      "No GPUs found! Running the simulation on a CPU.\n",
      "Inside covid19_env.py: 0 GPUs are available.\n",
      "No GPUs found! Running the simulation on a CPU.\n"
     ]
    },
    {
     "data": {
      "text/plain": [
       "__main__.NewEnvironment"
      ]
     },
     "execution_count": 4,
     "metadata": {},
     "output_type": "execute_result"
    }
   ],
   "source": [
    "from ai_economist.foundation.base.base_env import BaseEnvironment, scenario_registry\n",
    "\n",
    "env_name = \"UrbanDesignSimulation\"\n",
    "\n",
    "@scenario_registry.add\n",
    "class UrbanDesignSimulation(BaseEnvironment):\n",
    "    name = env_name\n",
    "    agent_subclasses = [\"ProprietorAgent\"]\n",
    "    required_entities = [\"Water\"]\n",
    "\n",
    "scenario_registry.get(env_name)"
   ]
  }
 ],
 "metadata": {
  "kernelspec": {
   "display_name": "Python 3.8.10 ('ai_economist')",
   "language": "python",
   "name": "python3"
  },
  "language_info": {
   "codemirror_mode": {
    "name": "ipython",
    "version": 3
   },
   "file_extension": ".py",
   "mimetype": "text/x-python",
   "name": "python",
   "nbconvert_exporter": "python",
   "pygments_lexer": "ipython3",
   "version": "3.8.10"
  },
  "orig_nbformat": 4,
  "vscode": {
   "interpreter": {
    "hash": "63e8fac638b3f395a62fd535d21373e1a4d6cd8b294febb18e6043fde58844b7"
   }
  }
 },
 "nbformat": 4,
 "nbformat_minor": 2
}
